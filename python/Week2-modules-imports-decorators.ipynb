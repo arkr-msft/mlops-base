{
 "cells": [
  {
   "cell_type": "markdown",
   "metadata": {},
   "source": [
    "# Introduction to Python modules\n",
    "\n",
    "Python modules are `.py` files where one can put functions, classes, and any other valid Python code. This notebook will cover why modules are useful and when to use them.\n"
   ]
  },
  {
   "cell_type": "markdown",
   "metadata": {},
   "source": [
    "It is helpful to organize code. Spot categories or groupings if working with a large file. This is how a command-line tool might look like with modules:\n",
    "\n",
    "```\n",
    "cli\n",
    "├── __init__.py\n",
    "├── engine.py\n",
    "├── exceptions.py\n",
    "├── main.py\n",
    "├── network.py\n",
    "├── parsing.py\n",
    "└── utils.py\n",
    "```\n",
    "\n",
    "Avoid the temptation to put everything in a single file. Imagine having one drawer for all your clothing. It doesn't work."
   ]
  }
 ],
 "metadata": {
  "kernelspec": {
   "display_name": "base",
   "language": "python",
   "name": "python3"
  },
  "language_info": {
   "name": "python",
   "version": "3.10.9"
  },
  "orig_nbformat": 4
 },
 "nbformat": 4,
 "nbformat_minor": 2
}
