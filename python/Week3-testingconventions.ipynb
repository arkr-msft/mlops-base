{
 "cells": [
  {
   "cell_type": "markdown",
   "metadata": {},
   "source": [
    "## Python's unittest\n",
    "What does the standard library has to offer? And how does it look to write tests in it? \n",
    "\n",
    "# Not the first choice\n",
    "As failures are not very useful\n",
    "and classes need inheritence\n"
   ]
  },
  {
   "cell_type": "code",
   "execution_count": 1,
   "metadata": {},
   "outputs": [
    {
     "name": "stderr",
     "output_type": "stream",
     "text": [
      "test_assertion (__main__.TestExample) ... /var/folders/5s/n98622n90nz5jkqmk86p037w0000gq/T/ipykernel_68361/3390681456.py:6: DeprecationWarning: Please use assertEqual instead.\n",
      "  self.assertEquals(\"some string\", \"some other\")\n",
      "FAIL\n",
      "\n",
      "======================================================================\n",
      "FAIL: test_assertion (__main__.TestExample)\n",
      "----------------------------------------------------------------------\n",
      "Traceback (most recent call last):\n",
      "  File \"/var/folders/5s/n98622n90nz5jkqmk86p037w0000gq/T/ipykernel_68361/3390681456.py\", line 6, in test_assertion\n",
      "    self.assertEquals(\"some string\", \"some other\")\n",
      "AssertionError: 'some string' != 'some other'\n",
      "- some string\n",
      "+ some other\n",
      "\n",
      "\n",
      "----------------------------------------------------------------------\n",
      "Ran 1 test in 0.002s\n",
      "\n",
      "FAILED (failures=1)\n"
     ]
    },
    {
     "data": {
      "text/plain": [
       "<unittest.main.TestProgram at 0x7f7903d2d360>"
      ]
     },
     "execution_count": 1,
     "metadata": {},
     "output_type": "execute_result"
    }
   ],
   "source": [
    "import unittest\n",
    "\n",
    "class TestExample(unittest.TestCase):\n",
    "\n",
    "  def test_assertion(self):\n",
    "    self.assertEquals(\"some string\", \"some other\")\n",
    "\n",
    "unittest.main(argv=[''], verbosity=2, exit=False)"
   ]
  },
  {
   "cell_type": "markdown",
   "metadata": {},
   "source": [
    "## How do you feel about learning test methods from `unittest`?\n",
    "\n",
    "* `self.assertEqual(a, b)`\n",
    "* `self.assertNotEqual(a, b)`\n",
    "* `self.assertTrue(x)`\n",
    "* `self.assertFalse(x)`\n",
    "* `self.assertIs(a, b)`\n",
    "* `self.assertIsNot(a, b)`\n",
    "* `self.assertIsNone(x)`\n",
    "* `self.assertIsNotNone(x)`\n",
    "* `self.assertIn(a, b)`\n",
    "* `self.assertNotIn(a, b)`\n",
    "* `self.assertIsInstance(a, b)`\n",
    "* `self.assertNotIsInstance(a, b)`\n",
    "* `self.assertRaises(exc, fun, *args, **kwds)`\n",
    "* `self.assertRaisesRegex(exc, r, fun, *args, **kwds)`\n",
    "* `self.assertWarns(warn, fun, *args, **kwds)`\n",
    "* `self.assertWarnsRegex(warn, r, fun, *args, **kwds)`\n",
    "* `self.assertLogs(logger, level)`\n",
    "* `self.assertMultiLineEqual(a, b)`\n",
    "* `self.assertSequenceEqual(a, b)`\n",
    "* `self.assertListEqual(a, b)`\n",
    "* `self.assertTupleEqual(a, b)`\n",
    "* `self.assertSetEqual(a, b)`\n",
    "* `self.assertDictEqual(a, b)`\n",
    "* `self.assertAlmostEqual(a, b)`\n",
    "* `self.assertNotAlmostEqual(a, b)`\n",
    "* `self.assertGreater(a, b)`\n",
    "* `self.assertGreaterEqual(a, b)`\n",
    "* `self.assertLess(a, b)`\n",
    "* `self.assertLessEqual(a, b)`\n",
    "* `self.assertRegex(s, r)`\n",
    "* `self.assertNotRegex(s, r)`\n",
    "* `self.assertCountEqual(a, b)`"
   ]
  },
  {
   "cell_type": "markdown",
   "metadata": {},
   "source": [
    "## Welcome to Pytest\n",
    "The land where everything is simpler and practical:\n",
    "\n",
    "* A command-line tool, but also a framework\n",
    "* Doesn't force one to use the framework\n",
    "* No classes required\n",
    "* Can run functions\n",
    "* Allows simple `assert` calls in tests: operators: `==`, `!=`, `>`, \n",
    "\n",
    "* Ultra-rich output, which can be turned off!\n",
    "\n",
    "_Pytest makes you want to actually write tests_"
   ]
  },
  {
   "cell_type": "markdown",
   "metadata": {},
   "source": [
    "### Tests can be functions or classes\n",
    "\n",
    "```python\n",
    "def test_my_function():\n",
    "  assert 1 == 1\n",
    "```\n",
    "\n",
    "Classes do not need inheritance:\n",
    "\n",
    "```python\n",
    "class TestMyClass:\n",
    "\n",
    "  def test_my_method(self):\n",
    "    assert 1 == 1\n",
    "```"
   ]
  },
  {
   "cell_type": "markdown",
   "metadata": {},
   "source": [
    "# Test layouts\n",
    "How do you add new tests or place them in a project? What if there are no test directories yet? What about running them automatically?"
   ]
  },
  {
   "cell_type": "markdown",
   "metadata": {},
   "source": [
    "### Directory layout starts with `tests`\n",
    "\n",
    "* From `tests` you can add anything like `unit`, `functional` or other meaningful names like `database`\n",
    "\n",
    "* Files need to be pre-fixed with `test_`\n",
    "\n",
    "* Test functions need to be prefixed with `test_`\n",
    "\n",
    "* Test classes need to be prefixed with `Test`"
   ]
  },
  {
   "cell_type": "markdown",
   "metadata": {},
   "source": [
    "# Testing with Pytest\n",
    "As with any Python project, create a virtual environment:\n",
    "\n",
    "```\n",
    "$ python -m venv venv\n",
    "$ source venv/bin/activate\n",
    "```\n",
    "\n",
    "And then install Pytest:\n",
    "\n",
    "```\n",
    "$ pip install pytest\n",
    "```\n",
    "\n",
    "Add it to a `requirements.txt` file so you don't forget to install it next time"
   ]
  },
  {
   "cell_type": "markdown",
   "metadata": {},
   "source": [
    "### Tests can be functions or classes\n",
    "\n",
    "```python\n",
    "def test_my_function():\n",
    "  assert 1 == 1\n",
    "```\n",
    "\n",
    "Classes do not need inheritance:\n",
    "\n",
    "```python\n",
    "class TestMyClass:\n",
    "\n",
    "  def test_my_method(self):\n",
    "    assert 1 == 1\n",
    "```"
   ]
  },
  {
   "cell_type": "markdown",
   "metadata": {},
   "source": [
    "# Examples: \n",
    "to be saved in a text_****.py file\n",
    "\n",
    "\n",
    "def test_passes():\n",
    "    assert True\n",
    "\n",
    "def test_fails():\n",
    "    assert False\n"
   ]
  }
 ],
 "metadata": {
  "kernelspec": {
   "display_name": "base",
   "language": "python",
   "name": "python3"
  },
  "language_info": {
   "codemirror_mode": {
    "name": "ipython",
    "version": 3
   },
   "file_extension": ".py",
   "mimetype": "text/x-python",
   "name": "python",
   "nbconvert_exporter": "python",
   "pygments_lexer": "ipython3",
   "version": "3.10.9"
  },
  "orig_nbformat": 4
 },
 "nbformat": 4,
 "nbformat_minor": 2
}
