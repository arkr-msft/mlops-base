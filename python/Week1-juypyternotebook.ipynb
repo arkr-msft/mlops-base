{
 "cells": [
  {
   "attachments": {},
   "cell_type": "markdown",
   "metadata": {},
   "source": [
    "# My first notebook"
   ]
  },
  {
   "cell_type": "markdown",
   "metadata": {},
   "source": [
    "# Strings"
   ]
  },
  {
   "cell_type": "code",
   "execution_count": 1,
   "metadata": {},
   "outputs": [
    {
     "name": "stdout",
     "output_type": "stream",
     "text": [
      "Hello World.\n"
     ]
    }
   ],
   "source": [
    "print(\"Hello World.\")"
   ]
  },
  {
   "cell_type": "code",
   "execution_count": 10,
   "metadata": {},
   "outputs": [
    {
     "name": "stdout",
     "output_type": "stream",
     "text": [
      "Alfredo\n",
      "Alfredo in double quotes\n",
      "Alfredo in 'triple \" quotes\n",
      "Alfredo in double quotesAlfredo in 'triple \" quotes\n"
     ]
    }
   ],
   "source": [
    "name1='Alfredo'\n",
    "print(name1)\n",
    "\n",
    "name2=\"Alfredo in double quotes\"\n",
    "print(name2)\n",
    "\n",
    "name3=\"\"\"Alfredo in 'triple \" quotes\"\"\"\n",
    "print(name3)\n",
    "\n",
    "name4=name2 + name3\n",
    "print(name4)"
   ]
  },
  {
   "cell_type": "code",
   "execution_count": 13,
   "metadata": {},
   "outputs": [
    {
     "data": {
      "text/plain": [
       "bool"
      ]
     },
     "execution_count": 13,
     "metadata": {},
     "output_type": "execute_result"
    }
   ],
   "source": [
    "type(15)\n",
    "\n",
    "type(True)"
   ]
  },
  {
   "cell_type": "markdown",
   "metadata": {},
   "source": [
    "# Conditions"
   ]
  },
  {
   "cell_type": "code",
   "execution_count": 19,
   "metadata": {},
   "outputs": [
    {
     "name": "stdout",
     "output_type": "stream",
     "text": [
      "The condition was met\n"
     ]
    }
   ],
   "source": [
    "condition=True\n",
    "if condition:\n",
    "    print(\"The condition was met\")"
   ]
  },
  {
   "cell_type": "markdown",
   "metadata": {},
   "source": [
    "# If Condition"
   ]
  },
  {
   "cell_type": "code",
   "execution_count": 24,
   "metadata": {},
   "outputs": [
    {
     "name": "stdout",
     "output_type": "stream",
     "text": [
      "More than one parent\n"
     ]
    }
   ],
   "source": [
    "properties = 0\n",
    "if properties:\n",
    "    print(\"no properties\")\n",
    "\n",
    "parents = 2\n",
    "if parents:\n",
    "    print(\"More than one parent\")"
   ]
  },
  {
   "cell_type": "code",
   "execution_count": 23,
   "metadata": {},
   "outputs": [
    {
     "name": "stdout",
     "output_type": "stream",
     "text": [
      "no properties\n",
      "More than one parent\n"
     ]
    }
   ],
   "source": [
    "#Operators\n",
    "\n",
    "properties = 0\n",
    "if properties == 0:\n",
    "    print(\"no properties\")\n",
    "\n",
    "parents = 2\n",
    "if parents > 1:\n",
    "    print(\"More than one parent\")"
   ]
  },
  {
   "cell_type": "code",
   "execution_count": 27,
   "metadata": {},
   "outputs": [
    {
     "name": "stdout",
     "output_type": "stream",
     "text": [
      "properties exists\n"
     ]
    }
   ],
   "source": [
    "properties = 1\n",
    "if properties == 0:\n",
    "    print(\"no properties\")\n",
    "else:\n",
    "    print(\"properties exists\")"
   ]
  },
  {
   "cell_type": "code",
   "execution_count": 30,
   "metadata": {},
   "outputs": [
    {
     "name": "stdout",
     "output_type": "stream",
     "text": [
      "Parent more than one\n"
     ]
    }
   ],
   "source": [
    "properties = 1\n",
    "if properties == 0:\n",
    "    print(\"no properties\")\n",
    "elif parents:\n",
    "    print(\"Parent more than one\")"
   ]
  },
  {
   "cell_type": "markdown",
   "metadata": {},
   "source": [
    "# Handling exceptions"
   ]
  },
  {
   "cell_type": "code",
   "execution_count": 34,
   "metadata": {},
   "outputs": [
    {
     "name": "stdout",
     "output_type": "stream",
     "text": [
      "7.0\n"
     ]
    }
   ],
   "source": [
    "try:\n",
    "    result = 14 / 0\n",
    "except ZeroDivisionError:\n",
    "    result = 14 / 2\n",
    "print(result)"
   ]
  },
  {
   "cell_type": "code",
   "execution_count": 35,
   "metadata": {},
   "outputs": [
    {
     "name": "stdout",
     "output_type": "stream",
     "text": [
      "7.0\n"
     ]
    }
   ],
   "source": [
    "#Catching multiple exceptions:\n",
    "\n",
    "try:\n",
    "    result = 14 / 0\n",
    "except (ZeroDivisionError,TypeError):\n",
    "    result = 14 / 2\n",
    "print(result)"
   ]
  }
 ],
 "metadata": {
  "interpreter": {
   "hash": "97c75d5742ce4126e9c8de89102e42b8c6ef138274f3f573d8cddb4366128408"
  },
  "kernelspec": {
   "display_name": "Python 3.10.9 ('base')",
   "language": "python",
   "name": "python3"
  },
  "language_info": {
   "codemirror_mode": {
    "name": "ipython",
    "version": 3
   },
   "file_extension": ".py",
   "mimetype": "text/x-python",
   "name": "python",
   "nbconvert_exporter": "python",
   "pygments_lexer": "ipython3",
   "version": "3.10.9"
  },
  "orig_nbformat": 4
 },
 "nbformat": 4,
 "nbformat_minor": 2
}
